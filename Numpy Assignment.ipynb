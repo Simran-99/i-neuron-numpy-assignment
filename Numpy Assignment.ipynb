{
 "cells": [
  {
   "cell_type": "code",
   "execution_count": 1,
   "id": "e0cc1aa5",
   "metadata": {},
   "outputs": [],
   "source": [
    "#Write a function so that the columns of the output matrix are powers of the input vector. \n",
    "#The order of the powers is determined by the increasing boolean argument. Specifically, when  increasing is False, the i-th\n",
    "#output column is the input vector raised element-wise to the power  of N - i - 1. \n",
    "#HINT: Such a matrix with a geometric progression in each row is named for Alexandre Theophile Vandermonde. \n"
   ]
  },
  {
   "cell_type": "code",
   "execution_count": 3,
   "id": "efcf2f93",
   "metadata": {},
   "outputs": [],
   "source": [
    "import numpy as np"
   ]
  },
  {
   "cell_type": "code",
   "execution_count": 4,
   "id": "018d5b87",
   "metadata": {
    "scrolled": true
   },
   "outputs": [],
   "source": [
    "arr=np.array([5,6,7,8])"
   ]
  },
  {
   "cell_type": "code",
   "execution_count": 9,
   "id": "ec005a71",
   "metadata": {},
   "outputs": [],
   "source": [
    "x=4"
   ]
  },
  {
   "cell_type": "code",
   "execution_count": 10,
   "id": "cdb1b70f",
   "metadata": {},
   "outputs": [
    {
     "data": {
      "text/plain": [
       "array([[125,  25,   5,   1],\n",
       "       [216,  36,   6,   1],\n",
       "       [343,  49,   7,   1],\n",
       "       [512,  64,   8,   1]])"
      ]
     },
     "execution_count": 10,
     "metadata": {},
     "output_type": "execute_result"
    }
   ],
   "source": [
    "np.vander(arr,x)"
   ]
  },
  {
   "cell_type": "code",
   "execution_count": 11,
   "id": "ff5aaaa6",
   "metadata": {},
   "outputs": [
    {
     "data": {
      "text/plain": [
       "array([[125,  25,   5,   1],\n",
       "       [216,  36,   6,   1],\n",
       "       [343,  49,   7,   1],\n",
       "       [512,  64,   8,   1]])"
      ]
     },
     "execution_count": 11,
     "metadata": {},
     "output_type": "execute_result"
    }
   ],
   "source": [
    "np.vander(arr,x,increasing=False)"
   ]
  },
  {
   "cell_type": "code",
   "execution_count": 12,
   "id": "63907f9d",
   "metadata": {},
   "outputs": [
    {
     "data": {
      "text/plain": [
       "array([[  1,   5,  25, 125],\n",
       "       [  1,   6,  36, 216],\n",
       "       [  1,   7,  49, 343],\n",
       "       [  1,   8,  64, 512]])"
      ]
     },
     "execution_count": 12,
     "metadata": {},
     "output_type": "execute_result"
    }
   ],
   "source": [
    "np.vander(arr,x,increasing=True)"
   ]
  },
  {
   "cell_type": "code",
   "execution_count": 13,
   "id": "9e6aad1f",
   "metadata": {},
   "outputs": [],
   "source": [
    "#Given a sequence of n values x1, x2, ..., xn and a window size k>0, the k-th moving average of  the given sequence is defined as follows: \n",
    "#The moving average sequence has n-k+1 elements as shown below. \n",
    "#The moving averages with k=4 of a ten-value sequence (n=10) is shown below \n",
    "#i 1 2 3 4 5 6 7 8 9 10 \n",
    "#===== == == == == == == == == == == \n",
    "#Input 10 20 30 40 50 60 70 80 90 100  \n",
    "#y1 25 = (10+20+30+40)/4 \n",
    "#y2 35 = (20+30+40+50)/4 \n",
    "#y3 45 = (30+40+50+60)/4 \n",
    "#y4 55 = (40+50+60+70)/4 \n",
    "#y5 65 = (50+60+70+80)/4 \n",
    "#y6 75 = (60+70+80+90)/4 \n",
    "#y7 85 = (70+80+90+100)/4 \n",
    "#Thus, the moving average sequence has n-k+1=10-4+1=7 values.\n"
   ]
  },
  {
   "cell_type": "code",
   "execution_count": 37,
   "id": "e41624f0",
   "metadata": {},
   "outputs": [],
   "source": [
    "def moving_array(a,n):\n",
    "    test=np.cumsum(a,dtype=int)\n",
    "    test[n:]=test[n:]-test[:-n]\n",
    "    return (test[n-1:])/n"
   ]
  },
  {
   "cell_type": "code",
   "execution_count": 39,
   "id": "9adf08e9",
   "metadata": {},
   "outputs": [],
   "source": [
    "arr1=np.array([3, 5, 7, 2, 8, 10, 11, 65, 72, 81, 99, 100, 150])"
   ]
  },
  {
   "cell_type": "code",
   "execution_count": 40,
   "id": "b28c5327",
   "metadata": {},
   "outputs": [
    {
     "data": {
      "text/plain": [
       "array([  5.        ,   4.66666667,   5.66666667,   6.66666667,\n",
       "         9.66666667,  28.66666667,  49.33333333,  72.66666667,\n",
       "        84.        ,  93.33333333, 116.33333333])"
      ]
     },
     "execution_count": 40,
     "metadata": {},
     "output_type": "execute_result"
    }
   ],
   "source": [
    "moving_array(arr1,3)"
   ]
  },
  {
   "cell_type": "code",
   "execution_count": null,
   "id": "86720928",
   "metadata": {},
   "outputs": [],
   "source": []
  }
 ],
 "metadata": {
  "kernelspec": {
   "display_name": "Python 3",
   "language": "python",
   "name": "python3"
  },
  "language_info": {
   "codemirror_mode": {
    "name": "ipython",
    "version": 3
   },
   "file_extension": ".py",
   "mimetype": "text/x-python",
   "name": "python",
   "nbconvert_exporter": "python",
   "pygments_lexer": "ipython3",
   "version": "3.8.8"
  }
 },
 "nbformat": 4,
 "nbformat_minor": 5
}
